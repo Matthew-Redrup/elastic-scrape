{
 "cells": [
  {
   "cell_type": "markdown",
   "id": "8fe21a48-a244-4563-8568-38e3bc57867e",
   "metadata": {},
   "source": [
    "# Script for scraping Elastic instances"
   ]
  },
  {
   "cell_type": "markdown",
   "id": "f1d19694-fce0-4a8f-8dc3-ec53045fa456",
   "metadata": {},
   "source": [
    "This is a test `1+1`"
   ]
  },
  {
   "cell_type": "code",
   "execution_count": 1,
   "id": "7e6dec19-bacf-412a-b369-951e12d1a4b5",
   "metadata": {},
   "outputs": [
    {
     "data": {
      "text/plain": [
       "2"
      ]
     },
     "execution_count": 1,
     "metadata": {},
     "output_type": "execute_result"
    }
   ],
   "source": [
    "1+1"
   ]
  },
  {
   "cell_type": "code",
   "execution_count": null,
   "id": "91178de9-36fd-4fa3-8f4f-de2858122cfb",
   "metadata": {},
   "outputs": [],
   "source": []
  }
 ],
 "metadata": {
  "kernelspec": {
   "display_name": "Python 3 (ipykernel)",
   "language": "python",
   "name": "python3"
  },
  "language_info": {
   "codemirror_mode": {
    "name": "ipython",
    "version": 3
   },
   "file_extension": ".py",
   "mimetype": "text/x-python",
   "name": "python",
   "nbconvert_exporter": "python",
   "pygments_lexer": "ipython3",
   "version": "3.10.6"
  }
 },
 "nbformat": 4,
 "nbformat_minor": 5
}
